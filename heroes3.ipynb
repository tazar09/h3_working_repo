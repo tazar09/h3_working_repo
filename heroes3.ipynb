{
  "nbformat": 4,
  "nbformat_minor": 0,
  "metadata": {
    "colab": {
      "provenance": [],
      "authorship_tag": "ABX9TyN3sxlQJUcISGPiFRnjNskG",
      "include_colab_link": true
    },
    "kernelspec": {
      "name": "python3",
      "display_name": "Python 3"
    },
    "language_info": {
      "name": "python"
    }
  },
  "cells": [
    {
      "cell_type": "markdown",
      "metadata": {
        "id": "view-in-github",
        "colab_type": "text"
      },
      "source": [
        "<a href=\"https://colab.research.google.com/github/tazar09/heroes_3/blob/main/heroes3.ipynb\" target=\"_parent\"><img src=\"https://colab.research.google.com/assets/colab-badge.svg\" alt=\"Open In Colab\"/></a>"
      ]
    },
    {
      "cell_type": "code",
      "execution_count": null,
      "metadata": {
        "id": "jEW_Q9yPBr9H"
      },
      "outputs": [],
      "source": []
    },
    {
      "cell_type": "code",
      "source": [
        "class Creature:\n",
        "  def __init__(self, name, attack, defense, damage, health, stack_size = 1):\n",
        "    self.name = name\n",
        "    self.attack = attack\n",
        "    self.defense = defense\n",
        "    self.damage = damage\n",
        "    self.health = health\n",
        "    self.stack_size = stack_size\n",
        "    self.stack_health = stack_size * health\n",
        "    self.stack_damage = stack_size * damage\n",
        "\n",
        "  def attack_other(self, other_creature):\n",
        "    if self.attack >= other_creature.defense:\n",
        "      damage_inflicted = self.stack_damage * (((self.attack - other_creature.defense) * 0.05) + 1)\n",
        "    else:\n",
        "      damage_inflicted = self.stack_damage * ((1 - ((self.attack - other_creature.defense) * 0.05)))\n",
        "    other_creature.health -= damage_inflicted\n",
        "    return damage_inflicted\n",
        "\n",
        "  def left_after_first_blow(self, other_creature):\n",
        "    damage = self.attack_other(other_creature)\n",
        "    number_left = round(((other_creature.stack_health - damage) / other_creature.stack_size), 1)\n",
        "    return number_left\n",
        "\n",
        "\n",
        "  # def is_alive(self):\n",
        "  #   return self.health > 0\n",
        "\n",
        "  # def simulate_battle(self, other_creature):\n",
        "  #   while self.is_alive() and other_creature.is_alive():"
      ],
      "metadata": {
        "id": "wnhCVwVCB7mX"
      },
      "execution_count": 30,
      "outputs": []
    },
    {
      "cell_type": "code",
      "source": [
        "Naga_Queens = Creature('Naga_Queen', 16, 13, 30, 110, 3)\n",
        "print('Naga Queens stack is {} large and has {} total hp.'.format(Naga_Queens.stack_size, Naga_Queens.stack_health))"
      ],
      "metadata": {
        "colab": {
          "base_uri": "https://localhost:8080/"
        },
        "id": "rLMoCIXQDroG",
        "outputId": "3fea2735-3f92-4c23-b4cf-2155e7156161"
      },
      "execution_count": 36,
      "outputs": [
        {
          "output_type": "stream",
          "name": "stdout",
          "text": [
            "Naga Queens stack is 3 large and has 330 total hp.\n"
          ]
        }
      ]
    },
    {
      "cell_type": "code",
      "source": [
        "Archangel = Creature('Archangel', 30, 30, 50, 250, 1)\n",
        "damage_dealt = Archangel.attack_other(Naga_Queens)\n",
        "print('Archangel stack is {} large and deals {}hp in total damage.'.format(Archangel.stack_size, damage_dealt))"
      ],
      "metadata": {
        "colab": {
          "base_uri": "https://localhost:8080/"
        },
        "id": "GCL0WX8tzw0W",
        "outputId": "1927b4e7-bbad-4bbe-f00b-c154f662dc73"
      },
      "execution_count": 38,
      "outputs": [
        {
          "output_type": "stream",
          "name": "stdout",
          "text": [
            "Archangel stack is 1 large and deals 92.5hp in total damage.\n"
          ]
        }
      ]
    },
    {
      "cell_type": "code",
      "source": [],
      "metadata": {
        "id": "7T3FvGYSzyNt"
      },
      "execution_count": null,
      "outputs": []
    },
    {
      "cell_type": "code",
      "source": [],
      "metadata": {
        "id": "bhxPMaUr0blH"
      },
      "execution_count": null,
      "outputs": []
    },
    {
      "cell_type": "code",
      "source": [],
      "metadata": {
        "id": "hFEuTgoW0bn1"
      },
      "execution_count": null,
      "outputs": []
    },
    {
      "cell_type": "code",
      "source": [
        "x = Archangel.left_after_first_blow(Naga_Queens)\n",
        "x"
      ],
      "metadata": {
        "colab": {
          "base_uri": "https://localhost:8080/"
        },
        "id": "_S61oRwZB7pG",
        "outputId": "01d0143b-1657-4c3f-9025-ddbeb05ec90b"
      },
      "execution_count": 39,
      "outputs": [
        {
          "output_type": "execute_result",
          "data": {
            "text/plain": [
              "79.2"
            ]
          },
          "metadata": {},
          "execution_count": 39
        }
      ]
    },
    {
      "cell_type": "code",
      "source": [
        "Naga_Queens = Creature('Naga_Queen', 16, 13, 30, 110, 3)\n",
        "Naga_Queens.stack_damage"
      ],
      "metadata": {
        "colab": {
          "base_uri": "https://localhost:8080/"
        },
        "id": "pFPQ17zQuwSf",
        "outputId": "aca498f6-7659-43d2-bbab-cc4e19b6d025"
      },
      "execution_count": 28,
      "outputs": [
        {
          "output_type": "execute_result",
          "data": {
            "text/plain": [
              "90"
            ]
          },
          "metadata": {},
          "execution_count": 28
        }
      ]
    },
    {
      "cell_type": "code",
      "source": [],
      "metadata": {
        "id": "3uylywkeuwYR"
      },
      "execution_count": null,
      "outputs": []
    },
    {
      "cell_type": "code",
      "source": [],
      "metadata": {
        "id": "CPQsNqp0uwa4"
      },
      "execution_count": null,
      "outputs": []
    },
    {
      "cell_type": "code",
      "source": [],
      "metadata": {
        "id": "-P8r7htWB7uv"
      },
      "execution_count": 17,
      "outputs": []
    },
    {
      "cell_type": "code",
      "source": [],
      "metadata": {
        "id": "X14IXrHmB7xe"
      },
      "execution_count": 17,
      "outputs": []
    }
  ]
}