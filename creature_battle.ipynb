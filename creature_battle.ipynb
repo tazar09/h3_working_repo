{
  "nbformat": 4,
  "nbformat_minor": 0,
  "metadata": {
    "colab": {
      "provenance": [],
      "authorship_tag": "ABX9TyNLDIOgU10gCLJZEaWiKlyS",
      "include_colab_link": true
    },
    "kernelspec": {
      "name": "python3",
      "display_name": "Python 3"
    },
    "language_info": {
      "name": "python"
    }
  },
  "cells": [
    {
      "cell_type": "markdown",
      "metadata": {
        "id": "view-in-github",
        "colab_type": "text"
      },
      "source": [
        "<a href=\"https://colab.research.google.com/github/tazar09/heroes_3/blob/main/heroes3.ipynb\" target=\"_parent\"><img src=\"https://colab.research.google.com/assets/colab-badge.svg\" alt=\"Open In Colab\"/></a>"
      ]
    },
    {
      "cell_type": "code",
      "execution_count": null,
      "metadata": {
        "id": "jEW_Q9yPBr9H"
      },
      "outputs": [],
      "source": []
    },
    {
      "cell_type": "code",
      "source": [
        "class Creature:\n",
        "  def __init__(self, name, attack, defense, damage, health, stack_size = 1):\n",
        "    self.name = name\n",
        "    self.attack = attack\n",
        "    self.defense = defense\n",
        "    self.damage = damage\n",
        "    self.health = health\n",
        "    self.stack_size = stack_size\n",
        "    self.stack_health = stack_size * health\n",
        "    self.stack_damage = stack_size * damage\n",
        "\n",
        "  def attack_other(self, other_creature):\n",
        "    if self.attack >= other_creature.defense:\n",
        "      damage_inflicted = self.stack_damage * (((self.attack - other_creature.defense) * 0.05) + 1)\n",
        "    else:\n",
        "      damage_inflicted = self.stack_damage * ((1 - ((other_creature.defense - self.attack ) * 0.025)))\n",
        "    other_creature.health -= damage_inflicted\n",
        "    return round(damage_inflicted)\n",
        "\n",
        "  def left_after_first_blow(self, other_creature):\n",
        "    damage = self.attack_other(other_creature)\n",
        "    number_left = round(((other_creature.stack_health - damage) / other_creature.stack_size), 1)\n",
        "    return number_left\n",
        "\n",
        "\n",
        "  # def is_alive(self):\n",
        "  #   return self.health > 0\n",
        "\n",
        "  # def simulate_battle(self, other_creature):\n",
        "  #   while self.is_alive() and other_creature.is_alive():"
      ],
      "metadata": {
        "id": "wnhCVwVCB7mX"
      },
      "execution_count": 32,
      "outputs": []
    },
    {
      "cell_type": "code",
      "source": [
        "Naga_Queens = Creature('Naga_Queen', 16, 13, 30, 110, 1)\n",
        "print('Naga Queens stack is {} large and has {} total hp.'.format(Naga_Queens.stack_size, Naga_Queens.stack_health))"
      ],
      "metadata": {
        "colab": {
          "base_uri": "https://localhost:8080/"
        },
        "id": "rLMoCIXQDroG",
        "outputId": "01e35f46-2601-4409-9c7b-707c77b080ed"
      },
      "execution_count": 33,
      "outputs": [
        {
          "output_type": "stream",
          "name": "stdout",
          "text": [
            "Naga Queens stack is 1 large and has 110 total hp.\n"
          ]
        }
      ]
    },
    {
      "cell_type": "code",
      "source": [
        "Archangel = Creature('Archangel', 30, 30, 50, 250, 1)\n",
        "damage_dealt = Archangel.attack_other(Naga_Queens)\n",
        "print('Archangel stack is {} large and deals {}hp in total damage to the Nagas Queens.'.format(Archangel.stack_size, int(damage_dealt)))"
      ],
      "metadata": {
        "colab": {
          "base_uri": "https://localhost:8080/"
        },
        "id": "GCL0WX8tzw0W",
        "outputId": "7010d4ec-c32e-4420-f8a6-1bd7c4f179e8"
      },
      "execution_count": 34,
      "outputs": [
        {
          "output_type": "stream",
          "name": "stdout",
          "text": [
            "Archangel stack is 1 large and deals 92hp in total damage to the Nagas Queens.\n"
          ]
        }
      ]
    },
    {
      "cell_type": "code",
      "source": [],
      "metadata": {
        "id": "hFEuTgoW0bn1"
      },
      "execution_count": 34,
      "outputs": []
    },
    {
      "cell_type": "code",
      "source": [
        "x = Archangel.left_after_first_blow(Naga_Queens)\n",
        "x"
      ],
      "metadata": {
        "colab": {
          "base_uri": "https://localhost:8080/"
        },
        "id": "_S61oRwZB7pG",
        "outputId": "99df04fd-7e69-4ac3-badd-8fc5e6ad5b2a"
      },
      "execution_count": 35,
      "outputs": [
        {
          "output_type": "execute_result",
          "data": {
            "text/plain": [
              "18.0"
            ]
          },
          "metadata": {},
          "execution_count": 35
        }
      ]
    },
    {
      "cell_type": "code",
      "source": [
        "damage_dealt = Naga_Queens.attack_other(Archangel)\n",
        "print(damage_dealt)"
      ],
      "metadata": {
        "id": "3uylywkeuwYR",
        "outputId": "caa83d82-18d3-4d2a-ab28-3732d18c2cad",
        "colab": {
          "base_uri": "https://localhost:8080/"
        }
      },
      "execution_count": 36,
      "outputs": [
        {
          "output_type": "stream",
          "name": "stdout",
          "text": [
            "19\n"
          ]
        }
      ]
    },
    {
      "cell_type": "code",
      "source": [],
      "metadata": {
        "id": "X14IXrHmB7xe"
      },
      "execution_count": null,
      "outputs": []
    }
  ]
}
